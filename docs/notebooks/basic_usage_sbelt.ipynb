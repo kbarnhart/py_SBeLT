{
 "cells": [
  {
   "cell_type": "markdown",
   "id": "1cb27b7e-85a8-4b7d-8c16-ab32e9d80d7d",
   "metadata": {},
   "source": [
    " # Basic Usage of py_SBeLT"
   ]
  },
  {
   "cell_type": "markdown",
   "id": "9971b2cd-2413-4a5b-b680-dd5f61c22840",
   "metadata": {},
   "source": [
    "## Installation"
   ]
  },
  {
   "cell_type": "code",
   "execution_count": null,
   "id": "487cafab-532d-4eb6-b124-bf52b3bb82b5",
   "metadata": {},
   "outputs": [],
   "source": [
    "!pip install sbelt"
   ]
  },
  {
   "cell_type": "markdown",
   "id": "75bd492a-f3c4-48a2-85da-482698b0272c",
   "metadata": {},
   "source": [
    "Once `sbelt` has been installed, we can import the `sbelt_runner` module. The sbelt_runner module is responsible for executing an instance of an py_SBeLT as it is described in py_SBeLT's [paper.md](https://github.com/szwiep/py_SBeLT/blob/master/paper/paper.md). "
   ]
  },
  {
   "cell_type": "code",
   "execution_count": null,
   "id": "f6c2e365-b7ec-4dde-bb06-7dc3cfa08213",
   "metadata": {},
   "outputs": [],
   "source": [
    "from sbelt import sbelt_runner"
   ]
  },
  {
   "cell_type": "markdown",
   "id": "78257d0c-8913-41fe-ba8d-b922ad79568d",
   "metadata": {},
   "source": [
    "## Parameters and Running"
   ]
  },
  {
   "cell_type": "markdown",
   "id": "0c487ba8-7c85-49bf-88b5-4b518ff5063a",
   "metadata": {
    "tags": []
   },
   "source": [
    "The `sbelt_runner` module contains a function `run` which we will use to execute a run of py_SBeLT. `run` takes 13 parameters/arguments. The project's [API documentation](https://github.com/szwiep/py_SBeLT/tree/master/docs/API) describes these parameters but we also provide the table below:\n",
    "\n",
    "\n",
    "| Parameter | Type | Tested Range | Default | Description |\n",
    "| ----------- | ------- | ------ | ----------- | ----------- |\n",
    "| particle_pack_dens | float | 0.50, 0.80 | 0.78 | The packing fraction of the model particles (-) |\n",
    "| bed_length | int | 100, 1000 | 100 | Length of the domain in the streamwise direction (mm) |\n",
    "| particle_diam | int or float =+ 0.5 | 0.5, 10 | 0.5 | Grain diameter (mm) |\n",
    "| num_subregions | int | 1, 10 | 4 | The number of bed subregions |\n",
    "| level_limit | int | 1, 3 | 3 | The maximum number of levels permitted (i.e how many particles high to stack)  |\n",
    "| iterations | int | 1, 1000000 | 1000 | The number of iterations to run |\n",
    "| poiss_lambda | int | 1, 5 | 5 | Lamba for poisson dist., used to determine the number of entrainment events |\n",
    "| gauss | boolean | - | False | Flag for which distribution to sample from for hop calculations. True=Normal, False=logNormal |\n",
    "| gauss_mu | float | 0.25, 2 | 1.0 | Mean/expectation of the logNormal/Normal distribution for hop calculations |\n",
    "| gauss_sigma | float | 0.25, 0.50 | 0.25 | Standard deviation of logNormal/Normal distribution for hop calculations|\n",
    "| data_save_interval | int | 1, 2 | 1 | How often to record model particle arrays (e.g 1=save every iteration, 2=save every other) |\n",
    "| height_dependant_entr | boolean | - | False | Flag indicating whether model automatically entrains particles that are at the height/level limit |\n",
    "| out_path | string | - | '.' | The location/directory to save model run data |\n",
    "| out_name | string | - | 'sbelt-out' | Filename for model run data |\n",
    "\n",
    "\n",
    "If we do not pass any arguments to `run` then the default parameters (described in the [project's DEFAULT_PARAMS.md](https://github.com/szwiep/py_SBeLT/blob/master/docs/DEFAULT_PARAMS.md)) will be used. Let's start by using the default parameters!"
   ]
  },
  {
   "cell_type": "markdown",
   "id": "f2c28bc4-84f7-4a90-9340-d664c92246f9",
   "metadata": {},
   "source": [
    "### Running with Default Parameters"
   ]
  },
  {
   "cell_type": "code",
   "execution_count": null,
   "id": "573b6725-f91e-41ef-b01d-832e8e6386ba",
   "metadata": {},
   "outputs": [],
   "source": [
    "sbelt_runner.run()"
   ]
  },
  {
   "cell_type": "markdown",
   "id": "741bd14a-9d32-4cd3-b186-e3fed71ea0b6",
   "metadata": {},
   "source": [
    "And that's all it takes! We can see that there is now a file `./sbelt-out.hdf5` located in our directory. This file contains information from the sbelt run including the placement of all particles in the stream for each iteration and metrics such as average age over all particles each iteration. For more detail regarding the information stored and how to interact with it, see the project documentation and additional notebooks.\n",
    "\n",
    "\n"
   ]
  },
  {
   "cell_type": "markdown",
   "id": "44cd63f0-f820-4d59-988e-7b505520d663",
   "metadata": {},
   "source": [
    "### Running with User-defined Parameters"
   ]
  },
  {
   "cell_type": "markdown",
   "id": "22f3d87c-9771-4be4-ba8d-4906816b3272",
   "metadata": {},
   "source": [
    "But what if we don't want to use the default parameters but instead what to try our own? Let's try!\n",
    "\n",
    "Instead of using the default parameters, let's execute a run of sbelt over _3000 iterations_, with a _bed length of 150 mm_, _3 subregions_, and the number of entrainment events per-iteration being sample from a poissoin distribution parameterized by _$\\lambda$ = 2_. Note that we will also need to create a new filename since we have already written to the default filename (`./sbelt-out.hdf5`) and run will not overwrite model files. Let's use `user-defined-sbelt`."
   ]
  },
  {
   "cell_type": "code",
   "execution_count": null,
   "id": "5fb57649-ef0c-4439-8df0-a90024c703a7",
   "metadata": {},
   "outputs": [],
   "source": [
    "sbelt_runner.run(iterations=3000, bed_length=150, num_subregions=3, poiss_lambda=2, out_name='user-defined-sbelt')"
   ]
  },
  {
   "cell_type": "markdown",
   "id": "dd5ee217-03ee-4890-81fb-6682d0a6f21e",
   "metadata": {},
   "source": [
    "Now that we've got two files full of particle-related information, let's plot some of it!"
   ]
  },
  {
   "cell_type": "markdown",
   "id": "90aa2fde-dc5e-4542-bf56-10fba05725a6",
   "metadata": {},
   "source": [
    "## Plotting"
   ]
  },
  {
   "cell_type": "markdown",
   "id": "d03a1250-0330-4a6b-9121-b1205ec95c05",
   "metadata": {},
   "source": [
    "The `sbelt` package comes with some basic plotting logic. We can access these functions with the following import:"
   ]
  },
  {
   "cell_type": "code",
   "execution_count": null,
   "id": "6d7b8509-151d-4945-9e9d-385eb9a61641",
   "metadata": {},
   "outputs": [],
   "source": [
    "from sbelt.plots import plotting"
   ]
  },
  {
   "cell_type": "markdown",
   "id": "ca3d5d55-f10c-40e1-9730-0519e7c891cb",
   "metadata": {},
   "source": [
    "Each function in `plotting` will require information derived from the `sbelt.hdf5` files (as well a file names and save locations, if desired) which we created in the **Parameters and Running** section. We will need to import both `numpy` and `h5py` into our envrionment to allow us to open/handle the `sbelt.hdf5` files and their stored data structures."
   ]
  },
  {
   "cell_type": "code",
   "execution_count": null,
   "id": "c8df9bcd-b1f7-4273-bf7e-55a5afb107f6",
   "metadata": {},
   "outputs": [],
   "source": [
    "import numpy as np\n",
    "import h5py"
   ]
  },
  {
   "cell_type": "markdown",
   "id": "17a9f5f7-3c16-4be3-ab4a-32ec4d67f5aa",
   "metadata": {},
   "source": [
    "### Plotting the Stream"
   ]
  },
  {
   "cell_type": "markdown",
   "id": "720d559f-0215-4be8-aac0-209ff5eb3a19",
   "metadata": {},
   "source": [
    "Let's start by plotting the stream at iteration 300 for both of our sbelt runs from **Parameters and Running** (default and user-defined parameters). Looking at the [API documentation](https://github.com/szwiep/py_SBeLT/blob/update_docs/docs/API/plotting.html), we can see that `plotting.stream` requires 5 arguments: `iteration`, `bed_particles`, `model_particles`, `x_lim`, and `y_lim`.\n",
    "\n",
    "For more information regarding the data in the HDF5 file, see the data_storage_sbelt notebook."
   ]
  },
  {
   "cell_type": "code",
   "execution_count": null,
   "id": "150535ab-acca-424c-bbf6-fe220923599a",
   "metadata": {},
   "outputs": [],
   "source": [
    "iteration = 300\n",
    "# y_lim is up to us and how we want the plot to look - not derived from hdf5 file!\n",
    "y_lim = 10 \n",
    "\n",
    "with h5py.File('sbelt-out.hdf5', 'r') as f: # open the hdf5 file to read\n",
    "    # bed particles are stored in the initial_values group\n",
    "    default_bed_particles = np.array(f['initial_values']['bed']) \n",
    "    \n",
    "    # model particles at the end of iteration i are stored with the key `iteration_i-1`\n",
    "    default_model_particles_300 = np.array(f['iteration_299']['model'])\n",
    "    \n",
    "    # We want to plot the whole stream so let x_lim = length of the bed\n",
    "    default_x_lim = f['params']['bed_length'][()] "
   ]
  },
  {
   "cell_type": "code",
   "execution_count": null,
   "id": "1f1f2603-b24d-4eda-832f-ff3a3069db7a",
   "metadata": {},
   "outputs": [],
   "source": [
    "plotting.stream(iteration, default_bed_particles, default_model_particles_300, default_x_lim, y_lim)"
   ]
  },
  {
   "cell_type": "code",
   "execution_count": null,
   "id": "fbda78dc-8a81-488d-9e69-ac33cae5bb81",
   "metadata": {},
   "outputs": [],
   "source": [
    "# For user-defined (ud) run\n",
    "\n",
    "with h5py.File('user-defined-sbelt.hdf5', 'r') as f: # open the hdf5 file to read\n",
    "    # bed particles are stored in the initial_values group\n",
    "    ud_bed_particles = np.array(f['initial_values']['bed']) \n",
    "    \n",
    "     # model particles at the end of iteration i are stored with the key `iteration_i-1`\n",
    "    ud_model_particles_300 = np.array(f['iteration_299']['model'])\n",
    "    \n",
    "    # We want to plot the whole stream so let x_lim = length of the bed\n",
    "    ud_x_lim = f['params']['bed_length'][()] "
   ]
  },
  {
   "cell_type": "code",
   "execution_count": null,
   "id": "7007ede5-4bed-469e-8b05-6ad31cea3337",
   "metadata": {},
   "outputs": [],
   "source": [
    "plotting.stream(iteration, ud_bed_particles, ud_model_particles_300, ud_x_lim, y_lim)"
   ]
  },
  {
   "cell_type": "markdown",
   "id": "870f6a25-3102-405e-b5d5-93ac348bd302",
   "metadata": {},
   "source": [
    "### Plotting the Downstream Particle Crossings"
   ]
  },
  {
   "cell_type": "markdown",
   "id": "2aeb60ad-4440-43e4-9cfb-d4d2e3eea6ac",
   "metadata": {},
   "source": [
    "Next, let's plot a histogram and time-series of the particles crossings at the downstream boundary using the `downstream_boundary_hist` and `downstream_boundary_ts` functions, respectively. We will grab the required information (see [API documentation]()) from the `.hdf5` files similarly to how we did in **Plotting the Stream**."
   ]
  },
  {
   "cell_type": "code",
   "execution_count": null,
   "id": "90ca04b8-7e04-4658-99a8-74a6180dfa2d",
   "metadata": {},
   "outputs": [],
   "source": [
    "# For the default run (change filename to try another run)\n",
    "\n",
    "with h5py.File('sbelt-out.hdf5', 'r') as f:\n",
    "    # Find how many subregions there are:\n",
    "    default_num_subregions = f['params']['num_subregions'][()]\n",
    "    \n",
    "    # id of the downstream boundary (final subregion's right boundary) is `subregion_num_subregion-1`\n",
    "    downstream_key = default_num_subregions - 1 # (because subregions are named 0-(N-1))\n",
    "    \n",
    "    # Get the crossings at the final subregion:\n",
    "    default_particle_crossing_list = np.array(f['final_metrics']['subregions'][f'subregion-{downstream_key}-flux'])\n",
    "    \n",
    "    # Total number of iterations is stored in params group\n",
    "    default_iterations = f['params']['iterations'][()]\n"
   ]
  },
  {
   "cell_type": "code",
   "execution_count": null,
   "id": "eba87432-3ecc-40bd-b572-24d7a38d374a",
   "metadata": {},
   "outputs": [],
   "source": [
    "plotting.downstream_boundary_hist(default_particle_crossing_list, default_iterations)"
   ]
  },
  {
   "cell_type": "code",
   "execution_count": null,
   "id": "66ac21bd-06d3-4e53-8873-86dcd8201082",
   "metadata": {},
   "outputs": [],
   "source": [
    "plotting.downstream_boundary_ts(default_particle_crossing_list, default_iterations, 1)"
   ]
  },
  {
   "cell_type": "markdown",
   "id": "f0d19d10-6610-46f4-8da8-b63782ef24d2",
   "metadata": {},
   "source": [
    "### Plotting the Downstream Particle Crossings with Age"
   ]
  },
  {
   "cell_type": "markdown",
   "id": "34a8272a-9305-4032-8f2f-1f9fc4bd98c0",
   "metadata": {},
   "source": [
    "Finally, let's use the final plotting function provided by `sbelt`, `crossing_info_age`. "
   ]
  },
  {
   "cell_type": "code",
   "execution_count": null,
   "id": "17e52775-2327-4462-9096-dfe49282cbb8",
   "metadata": {},
   "outputs": [],
   "source": [
    "# For the default run (change filename to try another run)\n",
    "\n",
    "with h5py.File('sbelt-out.hdf5', 'r') as f:\n",
    "    # Find how many subregions there are:\n",
    "    default_num_subregions = f['params']['num_subregions'][()]\n",
    "    \n",
    "    # id of the downstream boundary (final subregion's right boundary) is `subregion_num_subregion-1`\n",
    "    downstream_key = default_num_subregions - 1 \n",
    "    \n",
    "    # Get the crossings at the final subregion:\n",
    "    default_particle_crossing_list = np.array(f['final_metrics']['subregions'][f'subregion-{downstream_key}-flux'])\n",
    "    \n",
    "    # Get average age and # of iterations\n",
    "    default_avg_age = np.array(f['final_metrics']['avg_age'])\n",
    "    default_iterations = f['params']['iterations'][()]"
   ]
  },
  {
   "cell_type": "code",
   "execution_count": null,
   "id": "998c39d2-f0d3-43e0-b363-9790ffc8e451",
   "metadata": {},
   "outputs": [],
   "source": [
    "plotting.crossing_info_age(default_particle_crossing_list, default_avg_age, default_iterations, 1)"
   ]
  }
 ],
 "metadata": {
  "kernelspec": {
   "display_name": "Python 3",
   "language": "python",
   "name": "python3"
  },
  "language_info": {
   "codemirror_mode": {
    "name": "ipython",
    "version": 3
   },
   "file_extension": ".py",
   "mimetype": "text/x-python",
   "name": "python",
   "nbconvert_exporter": "python",
   "pygments_lexer": "ipython3",
   "version": "3.9.10"
  }
 },
 "nbformat": 4,
 "nbformat_minor": 5
}
